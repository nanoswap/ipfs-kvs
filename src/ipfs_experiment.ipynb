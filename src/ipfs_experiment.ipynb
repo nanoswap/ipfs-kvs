{
 "cells": [
  {
   "attachments": {},
   "cell_type": "markdown",
   "id": "f2489595",
   "metadata": {},
   "source": [
    "## Load protobuf models\n",
    "To build the protobuf files, I ran:\n",
    "```\n",
    "cd src;\n",
    "touch generated/nanoswap/__init__.py\n",
    "touch generated/nanoswap/enum/__init__.py\n",
    "protoc --python_out=generated --proto_path=generated schemas/nanoswap/message/*.proto schemas/nanoswap/enum/*.proto\n",
    "```"
   ]
  },
  {
   "cell_type": "code",
   "execution_count": 54,
   "id": "3ffc839b",
   "metadata": {},
   "outputs": [],
   "source": [
    "import sys\n",
    "from google.protobuf.json_format import MessageToJson\n",
    "sys.path.append(\"./generated\")\n",
    "\n",
    "import nanoswap.enum.issuers_pb2 as issuers_pb2\n",
    "import nanoswap.message.identity_pb2 as identity_pb2"
   ]
  },
  {
   "attachments": {},
   "cell_type": "markdown",
   "id": "53b942bc",
   "metadata": {},
   "source": [
    "## Create an example data record"
   ]
  },
  {
   "cell_type": "code",
   "execution_count": 55,
   "id": "db6a0fb1",
   "metadata": {},
   "outputs": [],
   "source": [
    "identity = identity_pb2.Identity(\n",
    "    id_field_type = issuers_pb2.Issuer.UNITED_STATES_AMERICA___FEDERAL___SOCIAL_SECURITY_NUMBER,\n",
    "    id_field_content = \"123-45-6789\"\n",
    ")"
   ]
  },
  {
   "cell_type": "code",
   "execution_count": 59,
   "id": "3b25f04c",
   "metadata": {},
   "outputs": [
    {
     "data": {
      "text/plain": [
       "'{\\n  \"idFieldContent\": \"123-45-6789\",\\n  \"idFieldType\": \"UNITED_STATES_AMERICA___FEDERAL___SOCIAL_SECURITY_NUMBER\"\\n}'"
      ]
     },
     "execution_count": 59,
     "metadata": {},
     "output_type": "execute_result"
    }
   ],
   "source": [
    "# Note: if the value of id_field_type is set to 1 (default value) it will not be included in the payload\n",
    "MessageToJson(identity, including_default_value_fields=True)"
   ]
  },
  {
   "attachments": {},
   "cell_type": "markdown",
   "id": "68cd1f6e",
   "metadata": {},
   "source": [
    "## Serialize the example record to prepare to store it in ipfs"
   ]
  },
  {
   "cell_type": "markdown",
   "id": "c3739429",
   "metadata": {},
   "source": []
  },
  {
   "cell_type": "code",
   "execution_count": 60,
   "id": "2796d6c8",
   "metadata": {},
   "outputs": [
    {
     "data": {
      "text/plain": [
       "b'\\x12\\x0b123-45-6789'"
      ]
     },
     "execution_count": 60,
     "metadata": {},
     "output_type": "execute_result"
    }
   ],
   "source": [
    "content = identity.SerializeToString()\n",
    "content"
   ]
  },
  {
   "attachments": {},
   "cell_type": "markdown",
   "id": "b69180d6",
   "metadata": {},
   "source": [
    "## Try to deserialize it"
   ]
  },
  {
   "cell_type": "code",
   "execution_count": 62,
   "id": "46489e60",
   "metadata": {},
   "outputs": [
    {
     "data": {
      "text/plain": [
       "'{\\n  \"idFieldContent\": \"123-45-6789\",\\n  \"idFieldType\": \"UNITED_STATES_AMERICA___FEDERAL___SOCIAL_SECURITY_NUMBER\"\\n}'"
      ]
     },
     "execution_count": 62,
     "metadata": {},
     "output_type": "execute_result"
    }
   ],
   "source": [
    "reader = identity_pb2.Identity()\n",
    "reader.ParseFromString(content)\n",
    "MessageToJson(reader, including_default_value_fields=True)"
   ]
  },
  {
   "cell_type": "code",
   "execution_count": null,
   "id": "482d623a",
   "metadata": {},
   "outputs": [],
   "source": []
  }
 ],
 "metadata": {
  "kernelspec": {
   "display_name": "Python 3",
   "language": "python",
   "name": "python3"
  },
  "language_info": {
   "codemirror_mode": {
    "name": "ipython",
    "version": 3
   },
   "file_extension": ".py",
   "mimetype": "text/x-python",
   "name": "python",
   "nbconvert_exporter": "python",
   "pygments_lexer": "ipython3",
   "version": "3.11.0"
  },
  "vscode": {
   "interpreter": {
    "hash": "aee8b7b246df8f9039afb4144a1f6fd8d2ca17a180786b69acc140d282b71a49"
   }
  }
 },
 "nbformat": 4,
 "nbformat_minor": 5
}
