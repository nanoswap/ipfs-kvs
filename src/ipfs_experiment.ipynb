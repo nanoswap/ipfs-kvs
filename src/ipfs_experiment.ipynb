{
 "cells": [
  {
   "cell_type": "markdown",
   "id": "bd04c615",
   "metadata": {},
   "source": [
    "## Load protobuf models\n",
    "To build the protobuf files, I ran:\n",
    "```\n",
    "protoc --proto_path=src --python_out=build/gen src/foo.proto src/bar/baz.proto\n",
    "\n",
    "```"
   ]
  },
  {
   "cell_type": "code",
   "execution_count": null,
   "id": "7a5cd7a7",
   "metadata": {},
   "outputs": [],
   "source": []
  }
 ],
 "metadata": {
  "kernelspec": {
   "display_name": "Python 3 (ipykernel)",
   "language": "python",
   "name": "python3"
  },
  "language_info": {
   "codemirror_mode": {
    "name": "ipython",
    "version": 3
   },
   "file_extension": ".py",
   "mimetype": "text/x-python",
   "name": "python",
   "nbconvert_exporter": "python",
   "pygments_lexer": "ipython3",
   "version": "3.11.2"
  }
 },
 "nbformat": 4,
 "nbformat_minor": 5
}
