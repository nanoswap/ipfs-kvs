{
 "cells": [
  {
   "attachments": {},
   "cell_type": "markdown",
   "id": "f2489595",
   "metadata": {},
   "source": [
    "## Load protobuf models\n",
    "To build the protobuf files, I ran:\n",
    "```\n",
    "cd src;\n",
    "touch generated/nanoswap/__init__.py\n",
    "touch generated/nanoswap/enum/__init__.py\n",
    "protoc --python_out=generated --proto_path=generated schemas/nanoswap/message/*.proto schemas/nanoswap/enum/*.proto\n",
    "```"
   ]
  },
  {
   "cell_type": "code",
   "execution_count": 1,
   "id": "3ffc839b",
   "metadata": {},
   "outputs": [],
   "source": [
    "import sys\n",
    "from google.protobuf.json_format import MessageToJson\n",
    "sys.path.append(\"./generated\")\n",
    "\n",
    "import nanoswap.enum.issuers_pb2 as issuers_pb2\n",
    "import nanoswap.message.identity_pb2 as identity_pb2"
   ]
  },
  {
   "attachments": {},
   "cell_type": "markdown",
   "id": "53b942bc",
   "metadata": {},
   "source": [
    "## Create an example data record"
   ]
  },
  {
   "cell_type": "code",
   "execution_count": 2,
   "id": "db6a0fb1",
   "metadata": {},
   "outputs": [],
   "source": [
    "identity = identity_pb2.Identity(\n",
    "    id_field_type = issuers_pb2.Issuer.UNITED_STATES_AMERICA___FEDERAL___SOCIAL_SECURITY_NUMBER,\n",
    "    id_field_content = \"123-45-6789\"\n",
    ")"
   ]
  },
  {
   "cell_type": "code",
   "execution_count": 3,
   "id": "3b25f04c",
   "metadata": {},
   "outputs": [
    {
     "data": {
      "text/plain": [
       "'{\\n  \"idFieldContent\": \"123-45-6789\",\\n  \"idFieldType\": \"UNITED_STATES_AMERICA___FEDERAL___SOCIAL_SECURITY_NUMBER\"\\n}'"
      ]
     },
     "execution_count": 3,
     "metadata": {},
     "output_type": "execute_result"
    }
   ],
   "source": [
    "# Note: if the value of id_field_type is set to 1 (default value) it will not be included in the payload\n",
    "MessageToJson(identity, including_default_value_fields=True)"
   ]
  },
  {
   "attachments": {},
   "cell_type": "markdown",
   "id": "68cd1f6e",
   "metadata": {},
   "source": [
    "## Serialize the example record to prepare to store it in ipfs"
   ]
  },
  {
   "cell_type": "markdown",
   "id": "c3739429",
   "metadata": {},
   "source": []
  },
  {
   "cell_type": "code",
   "execution_count": 4,
   "id": "2796d6c8",
   "metadata": {},
   "outputs": [
    {
     "data": {
      "text/plain": [
       "b'\\x12\\x0b123-45-6789'"
      ]
     },
     "execution_count": 4,
     "metadata": {},
     "output_type": "execute_result"
    }
   ],
   "source": [
    "content = identity.SerializeToString()\n",
    "content"
   ]
  },
  {
   "attachments": {},
   "cell_type": "markdown",
   "id": "b69180d6",
   "metadata": {},
   "source": [
    "## Try to deserialize it"
   ]
  },
  {
   "cell_type": "code",
   "execution_count": 5,
   "id": "46489e60",
   "metadata": {},
   "outputs": [
    {
     "data": {
      "text/plain": [
       "'{\\n  \"idFieldContent\": \"123-45-6789\",\\n  \"idFieldType\": \"UNITED_STATES_AMERICA___FEDERAL___SOCIAL_SECURITY_NUMBER\"\\n}'"
      ]
     },
     "execution_count": 5,
     "metadata": {},
     "output_type": "execute_result"
    }
   ],
   "source": [
    "reader = identity_pb2.Identity()\n",
    "reader.ParseFromString(content)\n",
    "MessageToJson(reader, including_default_value_fields=True)"
   ]
  },
  {
   "attachments": {},
   "cell_type": "markdown",
   "id": "981869c0",
   "metadata": {},
   "source": [
    "## Write the serialize message to ipfs"
   ]
  },
  {
   "cell_type": "code",
   "execution_count": 6,
   "id": "482d623a",
   "metadata": {},
   "outputs": [
    {
     "data": {
      "text/plain": [
       "UUID('86ff683e-ca37-4b3c-9871-67ac40641107')"
      ]
     },
     "execution_count": 6,
     "metadata": {},
     "output_type": "execute_result"
    }
   ],
   "source": [
    "import uuid\n",
    "\n",
    "# suppose this is the new credit identity we decided to issue for the user\n",
    "credit_id = uuid.uuid4()\n",
    "credit_id"
   ]
  },
  {
   "cell_type": "code",
   "execution_count": 7,
   "id": "c3da5f4e",
   "metadata": {},
   "outputs": [
    {
     "name": "stdout",
     "output_type": "stream",
     "text": [
      "b'\\x86\\xffh>\\xca7K<\\x98qg\\xac@d\\x11\\x07'\n",
      "86ff683e-ca37-4b3c-9871-67ac40641107\n"
     ]
    }
   ],
   "source": [
    "# uuid4 type conversion examples\n",
    "print(credit_id.bytes)\n",
    "print(str(credit_id))"
   ]
  },
  {
   "cell_type": "code",
   "execution_count": 8,
   "id": "0e269139",
   "metadata": {},
   "outputs": [
    {
     "data": {
      "text/plain": [
       "'identity.86ff683e-ca37-4b3c-9871-67ac40641107'"
      ]
     },
     "execution_count": 8,
     "metadata": {},
     "output_type": "execute_result"
    }
   ],
   "source": [
    "filename = 'identity.' + str(credit_id)\n",
    "filename"
   ]
  },
  {
   "attachments": {},
   "cell_type": "markdown",
   "id": "75c84582",
   "metadata": {},
   "source": [
    "## Write the file that we want to upload\n",
    "Long term it would be better to use HTTP or somehow write it in memory, but this looked like the easiest method"
   ]
  },
  {
   "cell_type": "code",
   "execution_count": 9,
   "id": "7ac600e5",
   "metadata": {},
   "outputs": [],
   "source": [
    "filepath = \"generated/tmp/\" + filename\n",
    "with open(filepath, \"wb\") as f:\n",
    "    f.write(content)"
   ]
  },
  {
   "attachments": {},
   "cell_type": "markdown",
   "id": "e1ce1083",
   "metadata": {},
   "source": [
    "## Upload the file to ipfs with the cli"
   ]
  },
  {
   "cell_type": "code",
   "execution_count": 10,
   "id": "444ef3b3",
   "metadata": {},
   "outputs": [],
   "source": [
    "import subprocess"
   ]
  },
  {
   "cell_type": "code",
   "execution_count": 27,
   "id": "8e180935",
   "metadata": {},
   "outputs": [
    {
     "data": {
      "text/plain": [
       "b'QmUYz8RCMdcbaekmpGRNdDkVyfVghZwkoKr9d7KydFXQwP'"
      ]
     },
     "execution_count": 27,
     "metadata": {},
     "output_type": "execute_result"
    }
   ],
   "source": [
    "result = subprocess.run([\"ipfs\", \"add\", filepath, \"--pin=true\", \"--to-files\", \"/\" + filename, \"-Q\"], capture_output=True)\n",
    "hash = result.stdout.strip()\n",
    "hash"
   ]
  },
  {
   "attachments": {},
   "cell_type": "markdown",
   "id": "e90b5858",
   "metadata": {},
   "source": [
    "## Read the data back from ipfs"
   ]
  },
  {
   "cell_type": "code",
   "execution_count": 29,
   "id": "620fd5f9",
   "metadata": {},
   "outputs": [
    {
     "data": {
      "text/plain": [
       "b'\\x12\\x0b123-45-6789'"
      ]
     },
     "execution_count": 29,
     "metadata": {},
     "output_type": "execute_result"
    }
   ],
   "source": [
    "result = subprocess.run([\"ipfs\", \"cat\", hash], capture_output=True)\n",
    "data = result.stdout.strip()\n",
    "data"
   ]
  },
  {
   "cell_type": "code",
   "execution_count": 30,
   "id": "9a946825",
   "metadata": {},
   "outputs": [
    {
     "data": {
      "text/plain": [
       "'{\\n  \"idFieldContent\": \"123-45-6789\",\\n  \"idFieldType\": \"UNITED_STATES_AMERICA___FEDERAL___SOCIAL_SECURITY_NUMBER\"\\n}'"
      ]
     },
     "execution_count": 30,
     "metadata": {},
     "output_type": "execute_result"
    }
   ],
   "source": [
    "reader = identity_pb2.Identity()\n",
    "reader.ParseFromString(data)\n",
    "MessageToJson(reader, including_default_value_fields=True)"
   ]
  },
  {
   "cell_type": "code",
   "execution_count": null,
   "id": "fb5936fa",
   "metadata": {},
   "outputs": [],
   "source": []
  }
 ],
 "metadata": {
  "kernelspec": {
   "display_name": "Python 3",
   "language": "python",
   "name": "python3"
  },
  "language_info": {
   "codemirror_mode": {
    "name": "ipython",
    "version": 3
   },
   "file_extension": ".py",
   "mimetype": "text/x-python",
   "name": "python",
   "nbconvert_exporter": "python",
   "pygments_lexer": "ipython3",
   "version": "3.11.0"
  },
  "vscode": {
   "interpreter": {
    "hash": "aee8b7b246df8f9039afb4144a1f6fd8d2ca17a180786b69acc140d282b71a49"
   }
  }
 },
 "nbformat": 4,
 "nbformat_minor": 5
}
