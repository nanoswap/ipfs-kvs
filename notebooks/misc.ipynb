{
 "cells": [
  {
   "cell_type": "code",
   "execution_count": 1,
   "id": "39bd0ede",
   "metadata": {},
   "outputs": [],
   "source": [
    "__package__ = \"jupyter\"\n",
    "\n",
    "import unittest\n",
    "from faker import Faker\n",
    "import uuid\n",
    "import sys\n",
    "\n",
    "sys.path.append(\"..\")\n",
    "sys.path.append(\"../src\")\n",
    "sys.path.append(\"../protobuf\")\n",
    "\n",
    "from index import Index\n",
    "from store import Store\n",
    "from sample_pb2 import Example, Type\n",
    "from ipfs import Ipfs\n",
    "\n",
    "Faker.seed(0)\n",
    "fake = Faker()\n",
    "\n",
    "class TestStore():\n",
    "    def __init__(self):\n",
    "        self.borrower = str(uuid.uuid4())\n",
    "        self.lender = str(uuid.uuid4())\n",
    "        self.loan = str(uuid.uuid4())\n",
    "\n",
    "    def test_store_and_read_data(self):\n",
    "        # create and store example data\n",
    "        data = Example(type=Type.BUZZ, content=\"fizz\")\n",
    "        index = Index(\n",
    "            prefix=\"loan\",\n",
    "            index={\n",
    "                \"borrower\": self.borrower,\n",
    "                \"lender\": self.lender\n",
    "            }, subindex=Index(\n",
    "                index={\n",
    "                    \"loan\": self.loan\n",
    "                }, subindex=Index(\n",
    "                    index={\n",
    "                        \"payment\": str(uuid.uuid4())\n",
    "                    }\n",
    "                )\n",
    "            )\n",
    "        )\n",
    "        store = Store(index=index, writer=data)\n",
    "        store.add()\n",
    "\n",
    "        # read stored data and check equality\n",
    "        store2 = Store(index=index, reader=Example())\n",
    "        store2.read()\n",
    "        assert store2.reader == data\n",
    "\n",
    "    def test_query_borrower_and_lender(self):\n",
    "        # create and store example data\n",
    "        data = Example(type=Type.BUZZ, content=\"fizz\")\n",
    "        index = Index(\n",
    "            prefix=\"loan\",\n",
    "            index={\n",
    "                \"borrower\": self.borrower,\n",
    "                \"lender\": self.lender\n",
    "            }, subindex=Index(\n",
    "                index={\n",
    "                    \"loan\": self.loan\n",
    "                }, subindex=Index(\n",
    "                    index={\n",
    "                        \"payment\": str(uuid.uuid4())\n",
    "                    }\n",
    "                )\n",
    "            )\n",
    "        )\n",
    "        store = Store(index=index, writer=data)\n",
    "        store.add()\n",
    "\n",
    "        # query for data by borrower and lender\n",
    "        query_index = Index(\n",
    "            index={\n",
    "                \"borrower\": self.borrower,\n",
    "                \"lender\": self.lender\n",
    "            },\n",
    "            prefix=\"loan\"\n",
    "        )\n",
    "        results = list(Store.query(query_index, Ipfs()))\n",
    "\n",
    "        # check that the result matches the original data\n",
    "        assert len(results) == 1\n",
    "        assert results[0].index == index\n",
    "\n",
    "    def test_query_borrower_only(self):\n",
    "        # create and store example data\n",
    "        data = Example(type=Type.BUZZ, content=\"fizz\")\n",
    "        index = Index(\n",
    "            prefix=\"loan\",\n",
    "            index={\n",
    "                \"borrower\": self.borrower,\n",
    "                \"lender\": self.lender\n",
    "            }, subindex=Index(\n",
    "                index={\n",
    "                    \"loan\": self.loan\n",
    "                }, subindex=Index(\n",
    "                    index={\n",
    "                        \"payment\": str(uuid.uuid4())\n",
    "                    }\n",
    "                )\n",
    "            )\n",
    "        )\n",
    "        store = Store(index=index, writer=data)\n",
    "        store.add()\n",
    "\n",
    "        # query for data by borrower only\n",
    "        query_index = Index(\n",
    "            index={\n",
    "                \"borrower\": self.borrower\n",
    "            },\n",
    "            prefix=\"loan\",\n",
    "            size=2\n",
    "        )\n",
    "        results = list(Store.query(query_index, Ipfs()))\n",
    "\n",
    "        # check that the result matches the original data\n",
    "        assert len(results) == 1\n",
    "        assert results[0].index == index\n"
   ]
  },
  {
   "cell_type": "code",
   "execution_count": 2,
   "id": "b7c824c8",
   "metadata": {},
   "outputs": [],
   "source": [
    "test = TestStore()"
   ]
  },
  {
   "cell_type": "code",
   "execution_count": 4,
   "id": "ca1ff3bf",
   "metadata": {},
   "outputs": [
    {
     "name": "stdout",
     "output_type": "stream",
     "text": [
      "Skipped file: loan/borrower_40fcad1f-475d-4503-add0-f4dd564cca87.lender_82d3c22b-633f-4bf9-bc31-94cac5874579/Entries\n"
     ]
    },
    {
     "ename": "AssertionError",
     "evalue": "",
     "output_type": "error",
     "traceback": [
      "\u001b[0;31m---------------------------------------------------------------------------\u001b[0m",
      "\u001b[0;31mAssertionError\u001b[0m                            Traceback (most recent call last)",
      "Cell \u001b[0;32mIn[4], line 1\u001b[0m\n\u001b[0;32m----> 1\u001b[0m \u001b[43mtest\u001b[49m\u001b[38;5;241;43m.\u001b[39;49m\u001b[43mtest_query_borrower_and_lender\u001b[49m\u001b[43m(\u001b[49m\u001b[43m)\u001b[49m\n",
      "Cell \u001b[0;32mIn[1], line 84\u001b[0m, in \u001b[0;36mTestStore.test_query_borrower_and_lender\u001b[0;34m(self)\u001b[0m\n\u001b[1;32m     81\u001b[0m results \u001b[38;5;241m=\u001b[39m \u001b[38;5;28mlist\u001b[39m(Store\u001b[38;5;241m.\u001b[39mquery(query_index, Ipfs()))\n\u001b[1;32m     83\u001b[0m \u001b[38;5;66;03m# check that the result matches the original data\u001b[39;00m\n\u001b[0;32m---> 84\u001b[0m \u001b[38;5;28;01massert\u001b[39;00m \u001b[38;5;28mlen\u001b[39m(results) \u001b[38;5;241m==\u001b[39m \u001b[38;5;241m1\u001b[39m\n\u001b[1;32m     85\u001b[0m \u001b[38;5;28;01massert\u001b[39;00m results[\u001b[38;5;241m0\u001b[39m]\u001b[38;5;241m.\u001b[39mindex \u001b[38;5;241m==\u001b[39m index\n",
      "\u001b[0;31mAssertionError\u001b[0m: "
     ]
    }
   ],
   "source": [
    "test.test_query_borrower_and_lender()"
   ]
  },
  {
   "cell_type": "code",
   "execution_count": 4,
   "id": "e48a5da3",
   "metadata": {},
   "outputs": [],
   "source": [
    "ipfs = Ipfs()"
   ]
  },
  {
   "cell_type": "code",
   "execution_count": 5,
   "id": "2a9ff1c4",
   "metadata": {},
   "outputs": [],
   "source": [
    "example = Example(\n",
    "    type = Type.FIZZ,\n",
    "    content = \"hello world!\"\n",
    ")"
   ]
  },
  {
   "cell_type": "code",
   "execution_count": 6,
   "id": "786f32b2",
   "metadata": {},
   "outputs": [],
   "source": [
    "content = example.SerializeToString()"
   ]
  },
  {
   "cell_type": "code",
   "execution_count": 7,
   "id": "8b81fe57",
   "metadata": {},
   "outputs": [],
   "source": [
    "filename = \"loan/borrower_e133c68e-9443-4acb-b16e-3411b098fcda.lender_91227598-ed2b-4900-8f6d-5b1c4c7ce960/loan_66af7f74-33ad-4d67-b229-7d2d47eeb616/payment_50ef794e-2734-4345-bcaa-c1ffa31002a2\""
   ]
  },
  {
   "cell_type": "code",
   "execution_count": 8,
   "id": "2be874d5",
   "metadata": {},
   "outputs": [],
   "source": [
    "ipfs.add(filename, content)"
   ]
  },
  {
   "cell_type": "code",
   "execution_count": null,
   "id": "64ed4627",
   "metadata": {},
   "outputs": [],
   "source": []
  }
 ],
 "metadata": {
  "kernelspec": {
   "display_name": "Python 3 (ipykernel)",
   "language": "python",
   "name": "python3"
  },
  "language_info": {
   "codemirror_mode": {
    "name": "ipython",
    "version": 3
   },
   "file_extension": ".py",
   "mimetype": "text/x-python",
   "name": "python",
   "nbconvert_exporter": "python",
   "pygments_lexer": "ipython3",
   "version": "3.11.2"
  }
 },
 "nbformat": 4,
 "nbformat_minor": 5
}
