{
 "cells": [
  {
   "cell_type": "markdown",
   "id": "f2489595",
   "metadata": {},
   "source": [
    "## Load protobuf models\n",
    "To build the protobuf files, I ran:\n",
    "```\n",
    "cd src;\n",
    "protoc --python_out=. --proto_path=protobuf protobuf/sample.proto\n",
    "```"
   ]
  },
  {
   "cell_type": "code",
   "execution_count": 1,
   "id": "3ffc839b",
   "metadata": {},
   "outputs": [],
   "source": [
    "import sys\n",
    "from google.protobuf.json_format import MessageToJson\n",
    "import tempfile\n",
    "\n",
    "sys.path.append(\"../src\")\n",
    "sys.path.append(\"../protobuf\")\n",
    "\n",
    "from ipfs import Ipfs\n",
    "from sample_pb2 import Example, Type"
   ]
  },
  {
   "cell_type": "markdown",
   "id": "53b942bc",
   "metadata": {},
   "source": [
    "## Create an example data record"
   ]
  },
  {
   "cell_type": "code",
   "execution_count": 2,
   "id": "db6a0fb1",
   "metadata": {},
   "outputs": [],
   "source": [
    "example = Example(\n",
    "    type = Type.FIZZ,\n",
    "    content = \"hello world!\"\n",
    ")"
   ]
  },
  {
   "cell_type": "code",
   "execution_count": 3,
   "id": "3b25f04c",
   "metadata": {},
   "outputs": [
    {
     "data": {
      "text/plain": [
       "'{\\n  \"content\": \"hello world!\",\\n  \"type\": \"FIZZ\"\\n}'"
      ]
     },
     "execution_count": 3,
     "metadata": {},
     "output_type": "execute_result"
    }
   ],
   "source": [
    "# Note: if the value of id_field_type is set to 1 (default value) it will not be included in the payload\n",
    "MessageToJson(example, including_default_value_fields=True)"
   ]
  },
  {
   "cell_type": "markdown",
   "id": "68cd1f6e",
   "metadata": {},
   "source": [
    "## Serialize the example record to prepare to store it in ipfs"
   ]
  },
  {
   "cell_type": "code",
   "execution_count": 4,
   "id": "2796d6c8",
   "metadata": {},
   "outputs": [
    {
     "data": {
      "text/plain": [
       "b'\\x12\\x0chello world!'"
      ]
     },
     "execution_count": 4,
     "metadata": {},
     "output_type": "execute_result"
    }
   ],
   "source": [
    "content = example.SerializeToString()\n",
    "content"
   ]
  },
  {
   "cell_type": "markdown",
   "id": "b69180d6",
   "metadata": {},
   "source": [
    "## Try to deserialize it"
   ]
  },
  {
   "cell_type": "code",
   "execution_count": 5,
   "id": "46489e60",
   "metadata": {},
   "outputs": [
    {
     "data": {
      "text/plain": [
       "'{\\n  \"content\": \"hello world!\",\\n  \"type\": \"FIZZ\"\\n}'"
      ]
     },
     "execution_count": 5,
     "metadata": {},
     "output_type": "execute_result"
    }
   ],
   "source": [
    "reader = Example()\n",
    "reader.ParseFromString(content)\n",
    "MessageToJson(reader, including_default_value_fields=True)"
   ]
  },
  {
   "cell_type": "markdown",
   "id": "981869c0",
   "metadata": {},
   "source": [
    "## Write the serialize message to ipfs"
   ]
  },
  {
   "cell_type": "code",
   "execution_count": 6,
   "id": "7ac600e5",
   "metadata": {},
   "outputs": [],
   "source": [
    "ipfs = Ipfs()\n",
    "filename = \"jupyter_test\"\n",
    "ipfs.add(filename, content)\n",
    "ipfs.write(filename, content)  # overwrite content"
   ]
  },
  {
   "cell_type": "markdown",
   "id": "e90b5858",
   "metadata": {},
   "source": [
    "## Read the data back from ipfs"
   ]
  },
  {
   "cell_type": "code",
   "execution_count": 7,
   "id": "620fd5f9",
   "metadata": {},
   "outputs": [
    {
     "data": {
      "text/plain": [
       "['Tjupyter_test',\n",
       " 'identity',\n",
       " 'jupyter_test',\n",
       " 'loan',\n",
       " 'test_directory_2',\n",
       " 'var']"
      ]
     },
     "execution_count": 7,
     "metadata": {},
     "output_type": "execute_result"
    }
   ],
   "source": [
    "result = ipfs.list_files()\n",
    "result"
   ]
  },
  {
   "cell_type": "code",
   "execution_count": 8,
   "id": "eacad108",
   "metadata": {},
   "outputs": [
    {
     "data": {
      "text/plain": [
       "b'\\x12\\x0chello world!'"
      ]
     },
     "execution_count": 8,
     "metadata": {},
     "output_type": "execute_result"
    }
   ],
   "source": [
    "result = ipfs.read(\"jupyter_test\")\n",
    "result"
   ]
  },
  {
   "cell_type": "code",
   "execution_count": 9,
   "id": "9a946825",
   "metadata": {},
   "outputs": [
    {
     "data": {
      "text/plain": [
       "'{\\n  \"content\": \"hello world!\",\\n  \"type\": \"FIZZ\"\\n}'"
      ]
     },
     "execution_count": 9,
     "metadata": {},
     "output_type": "execute_result"
    }
   ],
   "source": [
    "reader2 = Example()\n",
    "reader2.ParseFromString(result)\n",
    "result = MessageToJson(reader2, including_default_value_fields=True)\n",
    "result"
   ]
  },
  {
   "cell_type": "code",
   "execution_count": 10,
   "id": "fb5936fa",
   "metadata": {},
   "outputs": [
    {
     "data": {
      "text/plain": [
       "0"
      ]
     },
     "execution_count": 10,
     "metadata": {},
     "output_type": "execute_result"
    }
   ],
   "source": [
    "reader2.type"
   ]
  },
  {
   "cell_type": "code",
   "execution_count": 11,
   "id": "45d6454f",
   "metadata": {},
   "outputs": [
    {
     "data": {
      "text/plain": [
       "'hello world!'"
      ]
     },
     "execution_count": 11,
     "metadata": {},
     "output_type": "execute_result"
    }
   ],
   "source": [
    "reader2.content"
   ]
  },
  {
   "cell_type": "code",
   "execution_count": null,
   "id": "864c3a04",
   "metadata": {},
   "outputs": [],
   "source": []
  }
 ],
 "metadata": {
  "kernelspec": {
   "display_name": "Python 3 (ipykernel)",
   "language": "python",
   "name": "python3"
  },
  "language_info": {
   "codemirror_mode": {
    "name": "ipython",
    "version": 3
   },
   "file_extension": ".py",
   "mimetype": "text/x-python",
   "name": "python",
   "nbconvert_exporter": "python",
   "pygments_lexer": "ipython3",
   "version": "3.11.2"
  },
  "vscode": {
   "interpreter": {
    "hash": "aee8b7b246df8f9039afb4144a1f6fd8d2ca17a180786b69acc140d282b71a49"
   }
  }
 },
 "nbformat": 4,
 "nbformat_minor": 5
}
