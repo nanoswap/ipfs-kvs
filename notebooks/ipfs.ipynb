{
 "cells": [
  {
   "attachments": {},
   "cell_type": "markdown",
   "id": "f2489595",
   "metadata": {},
   "source": [
    "## Load protobuf models\n",
    "To build the protobuf files, I ran:\n",
    "```\n",
    "cd ipfskvs;\n",
    "protoc --python_out=. --proto_path=protobuf protobuf/sample.proto\n",
    "```"
   ]
  },
  {
   "cell_type": "code",
   "execution_count": 1,
   "id": "3ffc839b",
   "metadata": {},
   "outputs": [],
   "source": [
    "import sys\n",
    "from google.protobuf.json_format import MessageToJson\n",
    "import tempfile\n",
    "\n",
    "sys.path.append(\"..\")\n",
    "sys.path.append(\"../ipfskvs\")\n",
    "sys.path.append(\"../protobuf\")\n",
    "\n",
    "from ipfs import Ipfs\n",
    "from sample_pb2 import Example, Type"
   ]
  },
  {
   "cell_type": "markdown",
   "id": "53b942bc",
   "metadata": {},
   "source": [
    "## Create an example data record"
   ]
  },
  {
   "cell_type": "code",
   "execution_count": 2,
   "id": "db6a0fb1",
   "metadata": {},
   "outputs": [],
   "source": [
    "example = Example(\n",
    "    type = Type.FIZZ,\n",
    "    content = \"hello world!\"\n",
    ")"
   ]
  },
  {
   "cell_type": "code",
   "execution_count": 3,
   "id": "3b25f04c",
   "metadata": {},
   "outputs": [
    {
     "data": {
      "text/plain": [
       "'{\\n  \"content\": \"hello world!\",\\n  \"type\": \"FIZZ\"\\n}'"
      ]
     },
     "execution_count": 3,
     "metadata": {},
     "output_type": "execute_result"
    }
   ],
   "source": [
    "# Note: if the value of id_field_type is set to 1 (default value) it will not be included in the payload\n",
    "MessageToJson(example, including_default_value_fields=True)"
   ]
  },
  {
   "cell_type": "markdown",
   "id": "68cd1f6e",
   "metadata": {},
   "source": [
    "## Serialize the example record to prepare to store it in ipfs"
   ]
  },
  {
   "cell_type": "code",
   "execution_count": 4,
   "id": "2796d6c8",
   "metadata": {},
   "outputs": [
    {
     "data": {
      "text/plain": [
       "b'\\x12\\x0chello world!'"
      ]
     },
     "execution_count": 4,
     "metadata": {},
     "output_type": "execute_result"
    }
   ],
   "source": [
    "content = example.SerializeToString()\n",
    "content"
   ]
  },
  {
   "cell_type": "markdown",
   "id": "b69180d6",
   "metadata": {},
   "source": [
    "## Try to deserialize it"
   ]
  },
  {
   "cell_type": "code",
   "execution_count": 5,
   "id": "46489e60",
   "metadata": {},
   "outputs": [
    {
     "data": {
      "text/plain": [
       "'{\\n  \"content\": \"hello world!\",\\n  \"type\": \"FIZZ\"\\n}'"
      ]
     },
     "execution_count": 5,
     "metadata": {},
     "output_type": "execute_result"
    }
   ],
   "source": [
    "reader = Example()\n",
    "reader.ParseFromString(content)\n",
    "MessageToJson(reader, including_default_value_fields=True)"
   ]
  },
  {
   "cell_type": "markdown",
   "id": "981869c0",
   "metadata": {},
   "source": [
    "## Write the serialize message to ipfs"
   ]
  },
  {
   "cell_type": "code",
   "execution_count": 6,
   "id": "7ac600e5",
   "metadata": {},
   "outputs": [],
   "source": [
    "ipfs = Ipfs()\n",
    "filename = \"jupyter_test\"\n",
    "ipfs.add(filename, content)"
   ]
  },
  {
   "cell_type": "markdown",
   "id": "e90b5858",
   "metadata": {},
   "source": [
    "## Read the data back from ipfs"
   ]
  },
  {
   "cell_type": "code",
   "execution_count": 7,
   "id": "620fd5f9",
   "metadata": {},
   "outputs": [
    {
     "data": {
      "text/plain": [
       "{'Entries': [{'Name': 'Tjupyter_test', 'Type': 0, 'Size': 0, 'Hash': ''},\n",
       "  {'Name': 'identity', 'Type': 0, 'Size': 0, 'Hash': ''},\n",
       "  {'Name': 'jupyter_test', 'Type': 0, 'Size': 0, 'Hash': ''},\n",
       "  {'Name': 'loan', 'Type': 0, 'Size': 0, 'Hash': ''},\n",
       "  {'Name': 'test_directory_2', 'Type': 0, 'Size': 0, 'Hash': ''},\n",
       "  {'Name': 'var', 'Type': 0, 'Size': 0, 'Hash': ''}]}"
      ]
     },
     "execution_count": 7,
     "metadata": {},
     "output_type": "execute_result"
    }
   ],
   "source": [
    "result = ipfs.list_files()\n",
    "result"
   ]
  },
  {
   "cell_type": "code",
   "execution_count": 8,
   "id": "eacad108",
   "metadata": {},
   "outputs": [
    {
     "data": {
      "text/plain": [
       "b'\\x12\\x0chello world!'"
      ]
     },
     "execution_count": 8,
     "metadata": {},
     "output_type": "execute_result"
    }
   ],
   "source": [
    "result = ipfs.read(\"jupyter_test\")\n",
    "result"
   ]
  },
  {
   "cell_type": "code",
   "execution_count": 9,
   "id": "9a946825",
   "metadata": {},
   "outputs": [
    {
     "data": {
      "text/plain": [
       "'{\\n  \"content\": \"hello world!\",\\n  \"type\": \"FIZZ\"\\n}'"
      ]
     },
     "execution_count": 9,
     "metadata": {},
     "output_type": "execute_result"
    }
   ],
   "source": [
    "reader2 = Example()\n",
    "reader2.ParseFromString(result)\n",
    "result = MessageToJson(reader2, including_default_value_fields=True)\n",
    "result"
   ]
  },
  {
   "cell_type": "code",
   "execution_count": 10,
   "id": "fb5936fa",
   "metadata": {},
   "outputs": [
    {
     "data": {
      "text/plain": [
       "0"
      ]
     },
     "execution_count": 10,
     "metadata": {},
     "output_type": "execute_result"
    }
   ],
   "source": [
    "reader2.type"
   ]
  },
  {
   "cell_type": "code",
   "execution_count": 11,
   "id": "45d6454f",
   "metadata": {},
   "outputs": [
    {
     "data": {
      "text/plain": [
       "'hello world!'"
      ]
     },
     "execution_count": 11,
     "metadata": {},
     "output_type": "execute_result"
    }
   ],
   "source": [
    "reader2.content"
   ]
  },
  {
   "cell_type": "markdown",
   "id": "50965bb0",
   "metadata": {},
   "source": [
    "## Overwrite the file with new contents"
   ]
  },
  {
   "cell_type": "code",
   "execution_count": 12,
   "id": "c0511963",
   "metadata": {},
   "outputs": [
    {
     "data": {
      "text/plain": [
       "content: \"hello world!\""
      ]
     },
     "execution_count": 12,
     "metadata": {},
     "output_type": "execute_result"
    }
   ],
   "source": [
    "reader = Example()\n",
    "reader.ParseFromString(ipfs.read(filename))\n",
    "reader"
   ]
  },
  {
   "cell_type": "code",
   "execution_count": 13,
   "id": "001ee529",
   "metadata": {},
   "outputs": [],
   "source": [
    "# from dataclasses import dataclass\n",
    "# import subprocess\n",
    "# from typing import List\n",
    "# from google.protobuf.message import Message\n",
    "# import os\n",
    "# import requests\n",
    "# import json\n",
    "# from multicodec import add_prefix, remove_prefix, get_codec\n",
    "\n",
    "\n",
    "# IPFS_HOME =  \"/data\"\n",
    "\n",
    "# @dataclass\n",
    "# class Ipfs():\n",
    "    \n",
    "    \n",
    "\n",
    "#     def __init__(self, host: str = \"http://127.0.0.1\", port: int = 5001, version: str = \"v0\"):\n",
    "#         self.host = host\n",
    "#         self.port = port\n",
    "#         self.version = version\n",
    "\n",
    "#     def _make_request(self, method: str, endpoint: str, params: dict = None, data: dict = None, raise_for_status: bool = True):\n",
    "#         url = f\"{self.host}:{self.port}/api/{self.version}/{endpoint}\"\n",
    "#         response = requests.request(method, url, params = params, files = data)\n",
    "#         if raise_for_status:\n",
    "#             response.raise_for_status()\n",
    "#         return response.content\n",
    "\n",
    "#     def _dag_put(self, data: bytes) -> str:\n",
    "#         try:\n",
    "#             response = self._make_request(\n",
    "#                 method = \"POST\",\n",
    "#                 endpoint = \"dag/put\",\n",
    "#                 params = {\n",
    "#                     \"store-codec\": \"raw\",\n",
    "#                     \"input-codec\": \"raw\"\n",
    "#                 },\n",
    "#                 data = {\n",
    "#                     \"object data\": add_prefix('raw', data)\n",
    "#                 },\n",
    "#                 raise_for_status = False\n",
    "#             )\n",
    "#             print(response)\n",
    "#             result = json.loads(response)\n",
    "#             return result[\"Cid\"][\"/\"]\n",
    "#         except requests.exceptions.HTTPError as e:\n",
    "#             raise RuntimeError(e.response._content.decode()) from e\n",
    "\n",
    "#     def write(self, filename: str, data: bytes) -> None:\n",
    "#         \"\"\"\n",
    "#         Update an existing file\n",
    "\n",
    "#         Args:\n",
    "#             filename (str): The file to update\n",
    "#             data (Message): The data to overwrite the file with\n",
    "#         \"\"\"\n",
    "#         try:\n",
    "#             cid = self._dag_put(data)\n",
    "#             self._make_request(\n",
    "#                 method = \"POST\",\n",
    "#                 endpoint = \"files/write\",\n",
    "#                 params = {\n",
    "#                     \"arg\": f\"{IPFS_HOME}/{filename}\",\n",
    "#                     \"raw-leaves\": True\n",
    "#                 },\n",
    "#                 data = {\n",
    "#                     \"file\": cid.encode()\n",
    "#                 }\n",
    "#             )\n",
    "#         except requests.exceptions.HTTPError as e:\n",
    "#             raise RuntimeError(e.response._content.decode()) from e\n",
    "\n",
    "        "
   ]
  },
  {
   "cell_type": "code",
   "execution_count": 14,
   "id": "9157d97a",
   "metadata": {},
   "outputs": [],
   "source": [
    "# ipfs = Ipfs()"
   ]
  },
  {
   "cell_type": "code",
   "execution_count": 15,
   "id": "b04346af",
   "metadata": {},
   "outputs": [
    {
     "data": {
      "text/plain": [
       "b'\\x08\\x01\\x12\\x0ehello world???'"
      ]
     },
     "execution_count": 15,
     "metadata": {},
     "output_type": "execute_result"
    }
   ],
   "source": [
    "new_content = Example(\n",
    "    type = Type.BUZZ,\n",
    "    content = \"hello world???\"\n",
    ").SerializeToString()\n",
    "new_content"
   ]
  },
  {
   "cell_type": "code",
   "execution_count": 16,
   "id": "7d57366c",
   "metadata": {},
   "outputs": [],
   "source": [
    "# Not working\n",
    "# ipfs.write(filename, new_content)"
   ]
  },
  {
   "cell_type": "code",
   "execution_count": 17,
   "id": "7345010c",
   "metadata": {},
   "outputs": [
    {
     "data": {
      "text/plain": [
       "content: \"hello world!\""
      ]
     },
     "execution_count": 17,
     "metadata": {},
     "output_type": "execute_result"
    }
   ],
   "source": [
    "reader = Example()\n",
    "reader.ParseFromString(ipfs.read(filename))\n",
    "reader"
   ]
  },
  {
   "cell_type": "markdown",
   "id": "bd98c92e",
   "metadata": {},
   "source": [
    "## Delete the test file"
   ]
  },
  {
   "cell_type": "code",
   "execution_count": 18,
   "id": "076bfbc3",
   "metadata": {},
   "outputs": [
    {
     "data": {
      "text/plain": [
       "True"
      ]
     },
     "execution_count": 18,
     "metadata": {},
     "output_type": "execute_result"
    }
   ],
   "source": [
    "ipfs.does_file_exist(\"jupyter_test\")"
   ]
  },
  {
   "cell_type": "code",
   "execution_count": 19,
   "id": "17b461c8",
   "metadata": {},
   "outputs": [],
   "source": [
    "ipfs.delete(\"jupyter_test\")"
   ]
  },
  {
   "cell_type": "code",
   "execution_count": 20,
   "id": "e648df90",
   "metadata": {},
   "outputs": [
    {
     "data": {
      "text/plain": [
       "False"
      ]
     },
     "execution_count": 20,
     "metadata": {},
     "output_type": "execute_result"
    }
   ],
   "source": [
    "ipfs.does_file_exist(\"jupyter_test\")"
   ]
  },
  {
   "cell_type": "code",
   "execution_count": null,
   "id": "aa6ac314",
   "metadata": {},
   "outputs": [],
   "source": []
  }
 ],
 "metadata": {
  "kernelspec": {
   "display_name": "Python 3 (ipykernel)",
   "language": "python",
   "name": "python3"
  },
  "language_info": {
   "codemirror_mode": {
    "name": "ipython",
    "version": 3
   },
   "file_extension": ".py",
   "mimetype": "text/x-python",
   "name": "python",
   "nbconvert_exporter": "python",
   "pygments_lexer": "ipython3",
   "version": "3.11.2"
  },
  "vscode": {
   "interpreter": {
    "hash": "aee8b7b246df8f9039afb4144a1f6fd8d2ca17a180786b69acc140d282b71a49"
   }
  }
 },
 "nbformat": 4,
 "nbformat_minor": 5
}
