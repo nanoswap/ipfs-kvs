{
 "cells": [
  {
   "cell_type": "markdown",
   "id": "f2489595",
   "metadata": {},
   "source": [
    "## Load protobuf models\n",
    "To build the protobuf files, I ran:\n",
    "```\n",
    "cd src;\n",
    "protoc --python_out=. --proto_path=protobuf protobuf/sample.proto\n",
    "```"
   ]
  },
  {
   "cell_type": "code",
   "execution_count": 17,
   "id": "3ffc839b",
   "metadata": {},
   "outputs": [],
   "source": [
    "import sys\n",
    "from google.protobuf.json_format import MessageToJson\n",
    "import tempfile\n",
    "sys.path.append(\"../protobuf\")\n",
    "\n",
    "from sample_pb2 import Example, Type"
   ]
  },
  {
   "cell_type": "markdown",
   "id": "53b942bc",
   "metadata": {},
   "source": [
    "## Create an example data record"
   ]
  },
  {
   "cell_type": "code",
   "execution_count": 8,
   "id": "db6a0fb1",
   "metadata": {},
   "outputs": [],
   "source": [
    "example = Example(\n",
    "    type = Type.FIZZ,\n",
    "    content = \"123123123\"\n",
    ")"
   ]
  },
  {
   "cell_type": "code",
   "execution_count": 9,
   "id": "3b25f04c",
   "metadata": {},
   "outputs": [
    {
     "data": {
      "text/plain": [
       "'{\\n  \"content\": \"123123123\",\\n  \"type\": \"FIZZ\"\\n}'"
      ]
     },
     "execution_count": 9,
     "metadata": {},
     "output_type": "execute_result"
    }
   ],
   "source": [
    "# Note: if the value of id_field_type is set to 1 (default value) it will not be included in the payload\n",
    "MessageToJson(example, including_default_value_fields=True)"
   ]
  },
  {
   "cell_type": "markdown",
   "id": "68cd1f6e",
   "metadata": {},
   "source": [
    "## Serialize the example record to prepare to store it in ipfs"
   ]
  },
  {
   "cell_type": "code",
   "execution_count": 10,
   "id": "2796d6c8",
   "metadata": {},
   "outputs": [
    {
     "data": {
      "text/plain": [
       "b'\\x12\\t123123123'"
      ]
     },
     "execution_count": 10,
     "metadata": {},
     "output_type": "execute_result"
    }
   ],
   "source": [
    "content = example.SerializeToString()\n",
    "content"
   ]
  },
  {
   "cell_type": "markdown",
   "id": "b69180d6",
   "metadata": {},
   "source": [
    "## Try to deserialize it"
   ]
  },
  {
   "cell_type": "code",
   "execution_count": 12,
   "id": "46489e60",
   "metadata": {},
   "outputs": [
    {
     "data": {
      "text/plain": [
       "'{\\n  \"content\": \"123123123\",\\n  \"type\": \"FIZZ\"\\n}'"
      ]
     },
     "execution_count": 12,
     "metadata": {},
     "output_type": "execute_result"
    }
   ],
   "source": [
    "reader = Example()\n",
    "reader.ParseFromString(content)\n",
    "MessageToJson(reader, including_default_value_fields=True)"
   ]
  },
  {
   "cell_type": "markdown",
   "id": "981869c0",
   "metadata": {},
   "source": [
    "## Write the serialize message to ipfs"
   ]
  },
  {
   "cell_type": "markdown",
   "id": "75c84582",
   "metadata": {},
   "source": [
    "## Write the file that we want to upload\n",
    "Long term it would be better to use HTTP or somehow write it in memory, but this looked like the easiest method"
   ]
  },
  {
   "cell_type": "code",
   "execution_count": 22,
   "id": "7ac600e5",
   "metadata": {},
   "outputs": [],
   "source": [
    "filename = \"jupyter_test\"\n",
    "filepath = f\"{tempfile.gettempdir()}/{filename}\"\n",
    "with open(filepath, \"wb\") as f:\n",
    "    f.write(content)"
   ]
  },
  {
   "cell_type": "markdown",
   "id": "e1ce1083",
   "metadata": {},
   "source": [
    "## Upload the file to ipfs with the cli"
   ]
  },
  {
   "cell_type": "code",
   "execution_count": 23,
   "id": "444ef3b3",
   "metadata": {},
   "outputs": [],
   "source": [
    "import subprocess"
   ]
  },
  {
   "cell_type": "code",
   "execution_count": 24,
   "id": "7e1f62fe",
   "metadata": {},
   "outputs": [
    {
     "data": {
      "text/plain": [
       "CompletedProcess(args=['ipfs', 'files', 'mkdir', '-p', '/data/'], returncode=0)"
      ]
     },
     "execution_count": 24,
     "metadata": {},
     "output_type": "execute_result"
    }
   ],
   "source": [
    "subprocess.run([\"ipfs\", \"files\", \"mkdir\", \"-p\", \"/data/\"])\n"
   ]
  },
  {
   "cell_type": "code",
   "execution_count": 25,
   "id": "8e180935",
   "metadata": {},
   "outputs": [
    {
     "data": {
      "text/plain": [
       "b'added QmdzCont2JQHCF6cFFtXeYySh5ewW1w9ra9SptfvLyLk9j jupyter_test'"
      ]
     },
     "execution_count": 25,
     "metadata": {},
     "output_type": "execute_result"
    }
   ],
   "source": [
    "result = subprocess.run([\"ipfs\", \"add\", filepath, \"--to-files\", \"/data/\"], capture_output=True)\n",
    "hash = result.stdout.strip()\n",
    "hash"
   ]
  },
  {
   "cell_type": "markdown",
   "id": "e90b5858",
   "metadata": {},
   "source": [
    "## Read the data back from ipfs"
   ]
  },
  {
   "cell_type": "code",
   "execution_count": 26,
   "id": "620fd5f9",
   "metadata": {},
   "outputs": [
    {
     "data": {
      "text/plain": [
       "b'Tjupyter_test\\nidentity\\njupyter_test\\nloan\\nvar'"
      ]
     },
     "execution_count": 26,
     "metadata": {},
     "output_type": "execute_result"
    }
   ],
   "source": [
    "result = subprocess.run([\"ipfs\", \"files\", \"ls\", \"/data/\"], capture_output=True)\n",
    "data = result.stdout.strip()\n",
    "data"
   ]
  },
  {
   "cell_type": "code",
   "execution_count": 27,
   "id": "eacad108",
   "metadata": {},
   "outputs": [
    {
     "data": {
      "text/plain": [
       "b'\\x12\\t123123123'"
      ]
     },
     "execution_count": 27,
     "metadata": {},
     "output_type": "execute_result"
    }
   ],
   "source": [
    "result = subprocess.run([\"ipfs\", \"files\", \"read\", \"/data/\" + filename], capture_output=True)\n",
    "data = result.stdout.strip()\n",
    "data"
   ]
  },
  {
   "cell_type": "code",
   "execution_count": 29,
   "id": "9a946825",
   "metadata": {},
   "outputs": [
    {
     "data": {
      "text/plain": [
       "'{\\n  \"content\": \"123123123\",\\n  \"type\": \"FIZZ\"\\n}'"
      ]
     },
     "execution_count": 29,
     "metadata": {},
     "output_type": "execute_result"
    }
   ],
   "source": [
    "reader2 = Example()\n",
    "reader2.ParseFromString(data)\n",
    "result = MessageToJson(reader2, including_default_value_fields=True)\n",
    "result"
   ]
  },
  {
   "cell_type": "code",
   "execution_count": 31,
   "id": "fb5936fa",
   "metadata": {},
   "outputs": [
    {
     "data": {
      "text/plain": [
       "0"
      ]
     },
     "execution_count": 31,
     "metadata": {},
     "output_type": "execute_result"
    }
   ],
   "source": [
    "reader2.type"
   ]
  },
  {
   "cell_type": "code",
   "execution_count": 32,
   "id": "45d6454f",
   "metadata": {},
   "outputs": [
    {
     "data": {
      "text/plain": [
       "'123123123'"
      ]
     },
     "execution_count": 32,
     "metadata": {},
     "output_type": "execute_result"
    }
   ],
   "source": [
    "reader2.content"
   ]
  },
  {
   "cell_type": "code",
   "execution_count": null,
   "id": "864c3a04",
   "metadata": {},
   "outputs": [],
   "source": []
  }
 ],
 "metadata": {
  "kernelspec": {
   "display_name": "Python 3 (ipykernel)",
   "language": "python",
   "name": "python3"
  },
  "language_info": {
   "codemirror_mode": {
    "name": "ipython",
    "version": 3
   },
   "file_extension": ".py",
   "mimetype": "text/x-python",
   "name": "python",
   "nbconvert_exporter": "python",
   "pygments_lexer": "ipython3",
   "version": "3.11.2"
  },
  "vscode": {
   "interpreter": {
    "hash": "aee8b7b246df8f9039afb4144a1f6fd8d2ca17a180786b69acc140d282b71a49"
   }
  }
 },
 "nbformat": 4,
 "nbformat_minor": 5
}
